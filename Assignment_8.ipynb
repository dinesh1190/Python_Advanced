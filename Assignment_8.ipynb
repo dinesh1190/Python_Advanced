{
  "nbformat": 4,
  "nbformat_minor": 0,
  "metadata": {
    "colab": {
      "provenance": [],
      "include_colab_link": true
    },
    "kernelspec": {
      "name": "python3",
      "display_name": "Python 3"
    },
    "language_info": {
      "name": "python"
    }
  },
  "cells": [
    {
      "cell_type": "markdown",
      "metadata": {
        "id": "view-in-github",
        "colab_type": "text"
      },
      "source": [
        "<a href=\"https://colab.research.google.com/github/dinesh1190/Python_Advanced/blob/main/Assignment_8.ipynb\" target=\"_parent\"><img src=\"https://colab.research.google.com/assets/colab-badge.svg\" alt=\"Open In Colab\"/></a>"
      ]
    },
    {
      "cell_type": "markdown",
      "source": [
        "Q1. What are the two latest user-defined exception constraints in Python 3.X?\n",
        "\n",
        "As an AI language model, I don't have real-time access to the latest updates or versions of programming languages beyond my September 2021 knowledge cutoff. However, as of September 2021, Python 3.x does not have any specific \"latest\" user-defined exception constraints. The process of defining custom exceptions in Python has remained consistent for several versions.\n",
        "\n",
        "In Python, you can create your own custom exceptions by defining a new class that inherits from the built-in Exception class or one of its subclasses."
      ],
      "metadata": {
        "id": "cDN882n3oewm"
      }
    },
    {
      "cell_type": "markdown",
      "source": [
        "Q2. How are class-based exceptions that have been raised matched to handlers?\n",
        "\n",
        "In Python, when an exception is raised, the interpreter looks for an appropriate exception handler to handle the exception. The process of matching the raised exception to the appropriate exception handler follows a specific order, known as exception handling hierarchy. Here's how class-based exceptions are matched to handlers:\n",
        "\n",
        "The interpreter looks for an exception handler within the currently executing function. This handler can handle the specific exception class raised or any of its superclasses. If a matching handler is found, it is executed, and the flow of control continues from there.\n",
        "\n",
        "If no matching handler is found within the current function, the interpreter moves up the call stack, searching for an exception handler in the calling function. This process continues up the call stack until a matching handler is found or until the exception propagates to the top level of the program.\n",
        "\n",
        "If the exception propagates to the top level of the program without finding a matching handler, the interpreter will typically terminate the program and display a traceback, which includes information about the exception and the stack trace leading up to it."
      ],
      "metadata": {
        "id": "CmPLyrUtoetL"
      }
    },
    {
      "cell_type": "markdown",
      "source": [
        "Q3. Describe two methods for attaching context information to exception artefacts.\n",
        "\n",
        "When handling exceptions in Python, it is often helpful to attach additional context information to exception artifacts to provide more details about the error or its cause. Here are two common methods for attaching context information to exception artifacts:\n",
        "\n",
        "Exception Arguments:\n",
        "When raising an exception, you can pass additional arguments to the exception constructor to provide context information. These arguments can be accessed later when handling the exception.\n",
        "Exception Attributes:\n",
        "Another method is to define custom exception classes that include additional attributes to store context information. You can create a subclass of an existing exception or the base Exception class and define additional attributes as needed"
      ],
      "metadata": {
        "id": "PF9GaTM9oeqf"
      }
    },
    {
      "cell_type": "markdown",
      "source": [
        "Q4. Describe two methods for specifying the text of an exception object&#39;s error message.\n",
        "\n",
        "When raising an exception in Python, you can specify the text of the error message to provide relevant information about the exception. Here are two common methods for specifying the text of an exception object's error message:\n",
        "\n",
        "Passing a String to the Exception Constructor:\n",
        "When raising an exception, you can pass a string as an argument to the exception constructor, which will serve as the error message\n",
        "Defining the Error Message in Custom Exception Classes:\n",
        "Another method is to define custom exception classes and specify the error message within the class definition. By subclassing an existing exception class or the base Exception class, you can define your own __init__() method to accept arguments, including the error message"
      ],
      "metadata": {
        "id": "aUZu-sI6oeoC"
      }
    },
    {
      "cell_type": "markdown",
      "source": [
        "Q5. Why do you no longer use string-based exceptions?\n",
        "\n",
        "As an AI language model, I don't have personal preferences or opinions, so I don't have the capability to \"use\" exceptions myself. However, I can provide some insights on why string-based exceptions are not recommended in modern Python programming practices.\n",
        "\n",
        "In older versions of Python, it was possible to raise and catch exceptions using strings as the exception type."
      ],
      "metadata": {
        "id": "S_p-6cV1oelf"
      }
    }
  ]
}