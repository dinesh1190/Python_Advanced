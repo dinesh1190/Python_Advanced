{
  "nbformat": 4,
  "nbformat_minor": 0,
  "metadata": {
    "colab": {
      "provenance": [],
      "include_colab_link": true
    },
    "kernelspec": {
      "name": "python3",
      "display_name": "Python 3"
    },
    "language_info": {
      "name": "python"
    }
  },
  "cells": [
    {
      "cell_type": "markdown",
      "metadata": {
        "id": "view-in-github",
        "colab_type": "text"
      },
      "source": [
        "<a href=\"https://colab.research.google.com/github/dinesh1190/Python_Advanced/blob/main/Assignment_1.ipynb\" target=\"_parent\"><img src=\"https://colab.research.google.com/assets/colab-badge.svg\" alt=\"Open In Colab\"/></a>"
      ]
    },
    {
      "cell_type": "markdown",
      "source": [
        "Q1. What is the purpose of Python's OOP?\n",
        "\n",
        "The purpose of Python's object-oriented programming (OOP) is to create modular and reusable code by organizing related data and behavior into objects. OOP promotes code reusability, modularity, and abstraction through concepts such as classes, objects, inheritance, and polymorphism. It provides a structured and efficient approach to solving complex problems and improving code organization and maintainability."
      ],
      "metadata": {
        "id": "Jom2wlAVRp91"
      }
    },
    {
      "cell_type": "markdown",
      "source": [
        "Q2. Where does an inheritance search look for an attribute?\n",
        "\n",
        "In Python, an inheritance search for an attribute looks for it in the following order:\n",
        "\n",
        "The object itself\n",
        "The class of the object\n",
        "The parent classes in the method resolution order (MRO)\n",
        "If the attribute is not found in any of these steps, an AttributeError is raised."
      ],
      "metadata": {
        "id": "K2x6w09iR0Fh"
      }
    },
    {
      "cell_type": "markdown",
      "source": [
        "Q3. How do you distinguish between a class object and an instance object?\n",
        "\n",
        "In Python, you can distinguish between a class object and an instance object based on their characteristics and usage:\n",
        "\n",
        "Class Object:\n",
        "\n",
        "A class object represents the blueprint or template for creating instances (objects) of that class.\n",
        "It is created when the class is defined.\n",
        "Class objects define the attributes and behaviors that will be shared by all instances of the class.\n",
        "They typically contain class-level variables (attributes) and class methods.\n",
        "Class objects are accessed using the class name itself.\n",
        "Instance Object:\n",
        "\n",
        "An instance object is created from a class and represents a specific occurrence or realization of that class.\n",
        "It is created using the class name followed by parentheses, which calls the class's constructor (the __init__ method) to initialize the object.\n",
        "Instance objects have their own set of instance variables (attributes) that can have different values for each instance.\n",
        "They can also have instance methods, which operate on the instance's specific data.\n",
        "Instance objects are accessed using variable names assigned to them."
      ],
      "metadata": {
        "id": "80T_3kNgSDYV"
      }
    },
    {
      "cell_type": "markdown",
      "source": [
        "Q4. What makes the first argument in a class’s method function special?\n",
        "\n",
        "In Python, the first argument in a class's method function is conventionally named self, although you can use any valid variable name. This first argument is special because it refers to the instance of the class on which the method is called. It allows the method to access and manipulate the instance's attributes and perform operations specific to that instance.\n",
        "\n",
        "The self parameter acts as a reference to the instance itself and enables you to access instance variables and other methods within the class. When a method is called on an instance, Python automatically passes the instance as the first argument to the method, which is why you need to include self as the first parameter in the method definition.\n",
        "\n",
        "By using the self parameter, you can differentiate between class-level variables (shared among all instances) and instance variables (specific to each instance). You can also modify the state of the instance, call other methods within the class, or access any other instance-specific data or behavior.\n",
        "\n",
        "It is important to note that self is just a convention and not a reserved keyword in Python. However, it is widely followed as a best practice to improve code readability and maintain consistency in class definitions."
      ],
      "metadata": {
        "id": "uEVD-ugpSDOK"
      }
    },
    {
      "cell_type": "markdown",
      "source": [
        "Q5. What is the purpose of the __init__ method?\n",
        "\n",
        "The __init__ method in Python is a special method, also known as the constructor, that is automatically called when creating an instance (object) of a class. Its purpose is to initialize the instance by defining and assigning initial values to its attributes.\n",
        "\n",
        "The primary tasks of the __init__ method include:\n",
        "\n",
        "Initializing instance variables: You can use the __init__ method to set the initial state of the instance by assigning values to its attributes. These attributes capture and store specific data unique to each instance.\n",
        "\n",
        "Accepting arguments: The __init__ method can accept arguments that are passed when creating an instance. These arguments allow you to provide initial values for the instance's attributes, customizing the behavior of each instance as needed.\n",
        "\n",
        "Performing any additional setup or operations: The __init__ method can include additional code that needs to be executed during instance creation. This can involve initializing other objects, opening files or connections, or performing any other necessary setup tasks."
      ],
      "metadata": {
        "id": "az9LFyUCSC-X"
      }
    },
    {
      "cell_type": "markdown",
      "source": [
        "Q6. What is the process for creating a class instance?\n",
        "\n",
        "To create an instance (object) of a class in Python, you can follow these steps:\n",
        "\n",
        "Define the class: First, define the class blueprint by creating a class using the class keyword. Inside the class, you define attributes (variables) and methods (functions) that describe the behavior and characteristics of the class.\n",
        "\n",
        "Instantiate the class: To create an instance of the class, you need to call the class as if it were a function, passing any required arguments. This process is known as instantiation. When the class is called, the __init__ method (constructor) is automatically invoked, initializing the instance's attributes.\n",
        "\n",
        "Access and use the instance: Once the instance is created, you can access its attributes and methods using dot notation. Attributes hold specific data for the instance, and methods define the actions or operations that can be performed on the instance."
      ],
      "metadata": {
        "id": "wponR_FDSqzQ"
      }
    },
    {
      "cell_type": "markdown",
      "source": [
        "Q7. What is the process for creating a class\n",
        "\n",
        "To create a class in Python, you can follow these steps:\n",
        "\n",
        "Use the class keyword: Start by using the class keyword, followed by the name of the class. The class name should follow Python's naming conventions (e.g., start with a capital letter).\n",
        "\n",
        "Define class attributes: Inside the class, you can define attributes, which are variables that store data related to the class. These attributes can be accessed and modified by the class methods or instances of the class.\n",
        "\n",
        "Define class methods: Next, define methods within the class. Methods are functions that perform specific actions or operations on the class or its instances. The first parameter of a method is conventionally named self and refers to the instance on which the method is called.\n",
        "\n",
        "Optionally define special methods: You can define special methods, such as __init__, __str__, or __repr__, to customize the behavior of the class and its instances. These methods have specific names and are automatically called under certain circumstances."
      ],
      "metadata": {
        "id": "TVsxHfghSqv6"
      }
    },
    {
      "cell_type": "markdown",
      "source": [
        "Q8. How would you define the superclasses of a class?\n",
        "\n",
        "In Python, you define the superclasses (also known as parent classes or base classes) of a class by specifying them in the class definition. Superclasses provide a way to inherit attributes and methods from other classes, allowing for code reuse and promoting modularity.\n",
        "\n",
        "To define the superclasses of a class, you include them inside parentheses after the class name in the class definition. Multiple superclasses can be listed, separated by commas. This mechanism is known as multiple inheritance in Python.\n",
        "\n"
      ],
      "metadata": {
        "id": "f0hATPyCSqs-"
      }
    }
  ]
}