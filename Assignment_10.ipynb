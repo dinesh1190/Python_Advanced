{
  "nbformat": 4,
  "nbformat_minor": 0,
  "metadata": {
    "colab": {
      "provenance": [],
      "include_colab_link": true
    },
    "kernelspec": {
      "name": "python3",
      "display_name": "Python 3"
    },
    "language_info": {
      "name": "python"
    }
  },
  "cells": [
    {
      "cell_type": "markdown",
      "metadata": {
        "id": "view-in-github",
        "colab_type": "text"
      },
      "source": [
        "<a href=\"https://colab.research.google.com/github/dinesh1190/Python_Advanced/blob/main/Assignment_10.ipynb\" target=\"_parent\"><img src=\"https://colab.research.google.com/assets/colab-badge.svg\" alt=\"Open In Colab\"/></a>"
      ]
    },
    {
      "cell_type": "markdown",
      "source": [
        "Q1. What is the difference between __getattr__ and __getattribute__?\n",
        "\n",
        "The __getattr__ and __getattribute__ methods are both special methods in Python that are used for attribute access. However, they have some important differences:\n",
        "\n",
        "__getattr__(self, name): This method is called when an attribute is accessed and not found through the usual process of attribute lookup. It takes the name of the attribute as a parameter and should return the value of the attribute or raise an AttributeError if the attribute is not found. __getattr__ is only called if the attribute is not found through normal lookup, meaning it won't be called for attributes that actually exist.\n",
        "\n",
        "__getattribute__(self, name): This method is called for every attribute access, regardless of whether the attribute exists or not. It is invoked before checking if the attribute is present in the object's dictionary or in the class hierarchy. __getattribute__ allows you to customize the behavior of attribute access for all attributes, including existing ones. However, you need to be cautious when using __getattribute__ because accessing attributes within the method itself can lead to infinite recursion if not handled properly."
      ],
      "metadata": {
        "id": "Y-czmP40r-ox"
      }
    },
    {
      "cell_type": "markdown",
      "source": [
        "Q2. What is the difference between properties and descriptors?\n",
        "\n",
        "Properties and descriptors are both mechanisms in Python that allow you to customize attribute access and provide additional behavior when getting, setting, or deleting attributes. However, there are some key differences between them:\n",
        "\n",
        "Properties: Properties are a high-level way to define computed attributes. They use the @property decorator to define a method that is accessed like an attribute. Properties allow you to define custom logic for getting, setting, and deleting an attribute. The main characteristics of properties are:\n",
        "\n",
        "Properties are defined on a per-attribute basis.\n",
        "They provide a convenient syntax for accessing and modifying attributes.\n",
        "Properties are defined within the class and operate on the instance level.\n",
        "Properties can be overridden in subclasses.\n",
        "They are primarily used for adding computed attributes or performing additional actions when accessing an attribute.\n",
        "\n",
        "Descriptors: Descriptors are a lower-level mechanism for attribute access customization. They allow you to define how attribute access (getting, setting, deleting) is handled at the class level. Descriptors are implemented by defining one or more of the following special methods in a class: __get__, __set__, and __delete__. The main characteristics of descriptors are:\n",
        "\n",
        "Descriptors are defined once and can be reused across multiple attributes.\n",
        "They provide fine-grained control over attribute access at the class level.\n",
        "Descriptors can define the behavior for getting, setting, and deleting attributes.\n",
        "They operate at the class level rather than the instance level.\n",
        "Descriptors can be used to implement properties, methods, or other attribute access behaviors."
      ],
      "metadata": {
        "id": "7K4WwLdTr-lX"
      }
    },
    {
      "cell_type": "markdown",
      "source": [
        "Q3. What are the key differences in functionality between __getattr__ and __getattribute__, as well as properties and descriptors?\n",
        "\n",
        "\n",
        "The key differences in functionality between __getattr__ and __getattribute__, as well as properties and descriptors, are as follows:\n",
        "\n",
        "__getattr__ vs. __getattribute__:\n",
        "\n",
        "__getattr__(self, name) is called when an attribute is accessed and not found through the usual attribute lookup. It is only invoked if the attribute is not found through normal lookup. This method allows you to dynamically handle attribute access for non-existing attributes.\n",
        "\n",
        "__getattribute__(self, name) is called for every attribute access, regardless of whether the attribute exists or not. It is invoked before checking if the attribute is present in the object's dictionary or in the class hierarchy. This method allows you to customize the behavior of attribute access for all attributes, including existing ones.\n",
        "\n",
        "The main difference is that __getattr__ is called only for non-existing attributes, while __getattribute__ is called for every attribute access.\n",
        "Properties vs. Descriptors:\n",
        "\n",
        "Properties, defined using the @property decorator, provide a high-level way to define computed attributes. They allow you to define custom logic for getting, setting, and deleting an attribute. Properties are typically defined on a per-attribute basis and operate at the instance level. They provide a convenient syntax for accessing and modifying attributes.\n",
        "\n",
        "Descriptors, defined by implementing the __get__, __set__, and/or __delete__ methods, offer a lower-level mechanism for attribute access customization. Descriptors provide fine-grained control over attribute access at the class level. They can be reused across multiple attributes and define the behavior for getting, setting, and deleting attributes. Descriptors operate at the class level and can be used to implement properties, methods, or other attribute access behaviors."
      ],
      "metadata": {
        "id": "-Tprum1jr-jB"
      }
    },
    {
      "cell_type": "code",
      "execution_count": null,
      "metadata": {
        "id": "eREyN5SFrtkE"
      },
      "outputs": [],
      "source": []
    }
  ]
}