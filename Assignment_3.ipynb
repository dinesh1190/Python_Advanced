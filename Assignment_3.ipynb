{
  "nbformat": 4,
  "nbformat_minor": 0,
  "metadata": {
    "colab": {
      "provenance": [],
      "include_colab_link": true
    },
    "kernelspec": {
      "name": "python3",
      "display_name": "Python 3"
    },
    "language_info": {
      "name": "python"
    }
  },
  "cells": [
    {
      "cell_type": "markdown",
      "metadata": {
        "id": "view-in-github",
        "colab_type": "text"
      },
      "source": [
        "<a href=\"https://colab.research.google.com/github/dinesh1190/Python_Advanced/blob/main/Assignment_3.ipynb\" target=\"_parent\"><img src=\"https://colab.research.google.com/assets/colab-badge.svg\" alt=\"Open In Colab\"/></a>"
      ]
    },
    {
      "cell_type": "markdown",
      "source": [
        "1. What is the concept of an abstract superclass?\n",
        "\n",
        "The concept of an abstract superclass is related to object-oriented programming (OOP) and inheritance. In OOP, a superclass is a class that provides common attributes and behaviors to its subclasses. An abstract superclass, also known as an abstract class, is a special type of superclass that cannot be instantiated on its own. It serves as a blueprint for its subclasses and defines a common interface and behavior that the subclasses must implement.\n",
        "\n",
        "An abstract superclass is declared using the \"abstract\" keyword in most programming languages that support OOP, such as Java, C++, and Python. It may contain abstract methods, which are methods without an implementation. These abstract methods act as placeholders, defining the method signature (name, parameters, and return type) that the subclasses must implement.\n",
        "\n",
        "The main purpose of an abstract superclass is to provide a common set of methods or behavior that multiple related subclasses can inherit. It allows for code reusability and promotes a hierarchical organization of classes. Subclasses that inherit from an abstract superclass must provide concrete implementations for all the abstract methods defined in the superclass, thus fulfilling the contract established by the abstract superclass."
      ],
      "metadata": {
        "id": "wRaODbaUhSIh"
      }
    },
    {
      "cell_type": "markdown",
      "source": [
        "2. What happens when a class statement&#39;s top level contains a basic assignment statement?\n",
        "\n",
        "When a class statement's top level contains a basic assignment statement, it defines a class-level variable. The variable declared in the assignment statement becomes a member of the class and can be accessed by all instances of that class. It is shared among all instances of the class, meaning that any changes made to the variable will be reflected in all instances."
      ],
      "metadata": {
        "id": "H0PMemzchSFN"
      }
    },
    {
      "cell_type": "markdown",
      "source": [
        "3. Why does a class need to manually call a superclass&#39;s __init__ method?\n",
        "\n",
        "A class needs to manually call a superclass's __init__ method in order to properly initialize the inherited attributes and behaviors from the superclass. This is necessary because the __init__ method of a superclass is not automatically called when creating an instance of a subclass.\n",
        "\n",
        "In object-oriented programming, when a class inherits from another class (superclass), it acquires the attributes and methods of the superclass. However, the subclass may have its own specific attributes and behaviors that need to be initialized in addition to those inherited from the superclass.\n",
        "\n",
        "By calling the superclass's __init__ method within the subclass's __init__ method, the subclass can ensure that the superclass's initialization code is executed. This allows the subclass to inherit and initialize the attributes defined in the superclass, ensuring that the object is properly initialized and in a consistent state."
      ],
      "metadata": {
        "id": "m_KYxhubhSCE"
      }
    },
    {
      "cell_type": "markdown",
      "source": [
        "4. How can you augment, instead of completely replacing, an inherited method?\n",
        "\n",
        "To augment, or modify, an inherited method without completely replacing it, you can use method overriding in object-oriented programming. Method overriding allows a subclass to provide a different implementation of a method that is already defined in its superclass.\n",
        "\n",
        "Here's how you can augment an inherited method:\n",
        "\n",
        "Define a subclass that inherits from the superclass.\n",
        "Create a method with the same name in the subclass that you want to modify.\n",
        "Provide the new implementation for the method in the subclass.\n",
        "By following these steps, the subclass can override the inherited method and provide its own logic while still utilizing the original behavior from the superclass."
      ],
      "metadata": {
        "id": "nyP_EiWQhR_C"
      }
    },
    {
      "cell_type": "markdown",
      "source": [
        "5. How is the local scope of a class different from that of a function?\n",
        "\n",
        "Here are a few key differences between the local scope of a class and that of a function:\n",
        "\n",
        "Accessibility: Variables and methods defined in the local scope of a class can be accessed by other methods within the class using self. In contrast, variables defined within the local scope of a function are accessible only within that function.\n",
        "\n",
        "Lifetime: Variables in the local scope of a class exist as long as the instance or class exists. They retain their values throughout the lifetime of the instance or class. In the local scope of a function, variables exist only during the execution of the function and are destroyed once the function completes its execution.\n",
        "\n",
        "Usage: The local scope of a class is used for defining and managing attributes and methods specific to that class. It provides a way to encapsulate data and behavior within the class. The local scope of a function, on the other hand, is used for performing a specific set of operations or computations on the given input parameters or local variables.\n",
        "\n",
        "In summary, the local scope of a class is primarily used for defining attributes and methods accessible throughout the class, while the local scope of a function is used for storing and manipulating data specific to the execution of that function."
      ],
      "metadata": {
        "id": "QWVezXcUhR7n"
      }
    }
  ]
}