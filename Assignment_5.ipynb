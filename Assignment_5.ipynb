{
  "nbformat": 4,
  "nbformat_minor": 0,
  "metadata": {
    "colab": {
      "provenance": [],
      "include_colab_link": true
    },
    "kernelspec": {
      "name": "python3",
      "display_name": "Python 3"
    },
    "language_info": {
      "name": "python"
    }
  },
  "cells": [
    {
      "cell_type": "markdown",
      "metadata": {
        "id": "view-in-github",
        "colab_type": "text"
      },
      "source": [
        "<a href=\"https://colab.research.google.com/github/dinesh1190/Python_Advanced/blob/main/Assignment_5.ipynb\" target=\"_parent\"><img src=\"https://colab.research.google.com/assets/colab-badge.svg\" alt=\"Open In Colab\"/></a>"
      ]
    },
    {
      "cell_type": "markdown",
      "source": [
        "Q1. What is the meaning of multiple inheritance?\n",
        "\n",
        "Multiple inheritance is a feature found in some object-oriented programming languages that allows a class to inherit properties and behavior from more than one parent class. In other words, a class can have multiple direct superclasses.\n",
        "\n",
        "In a multiple inheritance scenario, a class can inherit attributes, methods, and other members from each of its parent classes. This means that the derived class (also known as the subclass or child class) can access and use the features of all its parent classes.\n",
        "\n",
        "The main advantage of multiple inheritance is that it allows for code reuse and promotes modular design by enabling a class to inherit functionality from different sources. For example, a class representing a \"FlyingCar\" could inherit properties from both a \"Car\" class and a \"Bird\" class, gaining the abilities of both. However, multiple inheritance can also lead to complexities and challenges, such as conflicts when two parent classes define methods or attributes with the same name. To address such conflicts, programming languages may provide mechanisms like method overriding or explicit resolution of ambiguities.\n",
        "\n",
        "It's worth noting that not all programming languages support multiple inheritance. Some languages, like Java, only allow single inheritance (where a class can have only one direct superclass), while others, like C++, support both single and multiple inheritance."
      ],
      "metadata": {
        "id": "L0-GxgVnj8E3"
      }
    },
    {
      "cell_type": "markdown",
      "source": [
        "Q2. What is the concept of delegation?\n",
        "\n",
        "Delegation is a programming concept where an object passes on a task or responsibility to another object to perform on its behalf. Instead of implementing the task directly, the delegating object (often referred to as the client object) delegates the responsibility to another object (known as the delegate) that specializes in performing that task.\n",
        "\n",
        "In delegation, the delegating object maintains a reference to the delegate object and forwards the request or task to it. The delegate object is then responsible for carrying out the requested operation. This allows the delegating object to focus on its core responsibilities while delegating specific tasks to other objects."
      ],
      "metadata": {
        "id": "BspLo5ntj8Ba"
      }
    },
    {
      "cell_type": "markdown",
      "source": [
        "Q3. What is the concept of composition?\n",
        "\n",
        "Composition is a fundamental concept in object-oriented programming that allows objects to be composed of other objects as parts or components. It represents a \"has-a\" relationship between classes, where a complex object is constructed by combining simpler objects.\n",
        "\n",
        "In composition, an object incorporates other objects as its components, and the lifetime of the components is tied to the lifetime of the containing object. The composed objects are responsible for specific behaviors or functionalities, and they interact with each other to fulfill the overall purpose of the containing object."
      ],
      "metadata": {
        "id": "GU5Ga8XGj7_U"
      }
    },
    {
      "cell_type": "markdown",
      "source": [
        "Q4. What are bound methods and how do we use them?\n",
        "\n",
        "In object-oriented programming, a bound method refers to a method that is associated with a specific instance of a class. When a method is accessed through an instance of a class, it becomes a bound method, and the instance becomes the implicit first argument (often referred to as self).\n",
        "\n",
        "Bound methods encapsulate both the method and the instance on which it is called. They allow the method to access and operate on the data and attributes specific to that instance. Bound methods are used to manipulate the state of the instance or perform operations related to the instance's behavior."
      ],
      "metadata": {
        "id": "2iTR3RNWj79A"
      }
    },
    {
      "cell_type": "markdown",
      "source": [
        "Q5. What is the purpose of pseudoprivate attributes?\n",
        "\n",
        "Pseudoprivate attributes, also known as name mangling or name mangling for privacy, serve as a mechanism in some programming languages, such as Python, to create class attributes that are intended to be private or have limited access within the class itself. The purpose of pseudoprivate attributes is to prevent accidental or unintended access or modification of these attributes from outside the class.\n",
        "\n",
        "In Python, pseudoprivate attributes are created by prefixing the attribute name with double underscores (__). When a class attribute is name-mangled, its name is modified by appending an underscore and the class name at the beginning. This modification makes the attribute harder to access from outside the class.\n",
        "\n",
        "The main purpose of pseudoprivate attributes is to provide a form of data encapsulation and to signal that certain attributes should not be accessed directly by external code. It helps to maintain the integrity of the class's internal state and implementation details."
      ],
      "metadata": {
        "id": "xDHUEsWJj76e"
      }
    },
    {
      "cell_type": "code",
      "execution_count": null,
      "metadata": {
        "id": "Y7eQhEs8j3tV"
      },
      "outputs": [],
      "source": []
    }
  ]
}